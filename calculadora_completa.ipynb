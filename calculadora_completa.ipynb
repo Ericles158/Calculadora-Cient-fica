{
  "nbformat": 4,
  "nbformat_minor": 0,
  "metadata": {
    "colab": {
      "provenance": []
    },
    "kernelspec": {
      "name": "python3",
      "display_name": "Python 3"
    },
    "language_info": {
      "name": "python"
    }
  },
  "cells": [
    {
      "cell_type": "markdown",
      "source": [
        "Calculadora Completa\n"
      ],
      "metadata": {
        "id": "clgtpNFlGht5"
      }
    },
    {
      "cell_type": "code",
      "source": [
        "import math\n",
        "\n",
        "# Funções matemáticas básicas\n",
        "def somar(a, b):\n",
        "    return a + b\n",
        "\n",
        "def subtrair(a, b):\n",
        "    return a - b\n",
        "\n",
        "def multiplicar(a, b):\n",
        "    return a * b\n",
        "\n",
        "def dividir(a, b):\n",
        "    if b != 0:\n",
        "        return a / b\n",
        "    else:\n",
        "        return \"Erro: divisão por zero\"\n",
        "\n",
        "# Funções científicas\n",
        "def potencia(x):\n",
        "    return math.pow(x, 2)\n",
        "\n",
        "def raiz(x):\n",
        "    return math.sqrt(x)\n",
        "\n",
        "def seno(x):\n",
        "    return math.sin(math.radians(x))\n",
        "\n",
        "def cosseno(x):\n",
        "    return math.cos(math.radians(x))\n",
        "\n",
        "def tangente(x):\n",
        "    return math.tan(math.radians(x))\n",
        "\n",
        "def logaritmo(x):\n",
        "    if x > 0:\n",
        "        return math.log10(x)\n",
        "    else:\n",
        "        return \"Erro: logaritmo de número não positivo\"\n",
        "\n",
        "# Validação de número\n",
        "def validar_numero(valor):\n",
        "    try:\n",
        "        return float(valor)\n",
        "    except ValueError:\n",
        "        return None\n",
        "\n",
        "# Menu de seleção\n",
        "def exibir_menu():\n",
        "    print(\"\\n--- CALCULADORA CIENTÍFICA ---\")\n",
        "    print(\"1 - Operações básicas (+, -, *, /)\")\n",
        "    print(\"2 - Operações científicas (**², sqrt, sin, cos, tan, log)\")\n",
        "    print(\"0 - Sair\")\n",
        "\n",
        "# Execução principal\n",
        "while True:\n",
        "    exibir_menu()\n",
        "    escolha = input(\"Escolha uma opção: \")\n",
        "\n",
        "    if escolha == '1':\n",
        "        n1 = validar_numero(input(\"Digite o primeiro número: \"))\n",
        "        n2 = validar_numero(input(\"Digite o segundo número: \"))\n",
        "        op = input(\"Digite o operador (+, -, *, /): \")\n",
        "\n",
        "        if None in (n1, n2):\n",
        "            print(\"Erro: entrada inválida.\")\n",
        "        else:\n",
        "            if op == '+':\n",
        "                print(\"Resultado:\", somar(n1, n2))\n",
        "            elif op == '-':\n",
        "                print(\"Resultado:\", subtrair(n1, n2))\n",
        "            elif op == '*':\n",
        "                print(\"Resultado:\", multiplicar(n1, n2))\n",
        "            elif op == '/':\n",
        "                print(\"Resultado:\", dividir(n1, n2))\n",
        "            else:\n",
        "                print(\"Operador inválido.\")\n",
        "\n",
        "    elif escolha == '2':\n",
        "        n = validar_numero(input(\"Digite o número: \"))\n",
        "        op = input(\"Digite a operação (** para potência, sqrt, sin, cos, tan, log): \")\n",
        "\n",
        "        if n is None:\n",
        "            print(\"Erro: número inválido.\")\n",
        "        else:\n",
        "            if op == '**':\n",
        "                print(\"Resultado:\", potencia(n))\n",
        "            elif op == 'sqrt':\n",
        "                print(\"Resultado:\", raiz(n))\n",
        "            elif op == 'sin':\n",
        "                print(\"Resultado:\", seno(n))\n",
        "            elif op == 'cos':\n",
        "                print(\"Resultado:\", cosseno(n))\n",
        "            elif op == 'tan':\n",
        "                print(\"Resultado:\", tangente(n))\n",
        "            elif op == 'log':\n",
        "                print(\"Resultado:\", logaritmo(n))\n",
        "            else:\n",
        "                print(\"Operação inválida.\")\n",
        "\n",
        "    elif escolha == '0':\n",
        "        print(\"Encerrando a calculadora. Até mais!\")\n",
        "        break\n",
        "    else:\n",
        "        print(\"Opção inválida. Tente novamente.\")\n"
      ],
      "metadata": {
        "colab": {
          "base_uri": "https://localhost:8080/"
        },
        "id": "t1LaXJl7Nq_7",
        "outputId": "ccdf0598-2f61-4c22-b2f0-c03822794b04"
      },
      "execution_count": null,
      "outputs": [
        {
          "output_type": "stream",
          "name": "stdout",
          "text": [
            "\n",
            "--- CALCULADORA CIENTÍFICA ---\n",
            "1 - Operações básicas (+, -, *, /)\n",
            "2 - Operações científicas (**², sqrt, sin, cos, tan, log)\n",
            "0 - Sair\n",
            "Escolha uma opção: 1\n",
            "Digite o primeiro número: 6\n",
            "Digite o segundo número: 5\n",
            "Digite o operador (+, -, *, /): *\n",
            "Resultado: 30.0\n",
            "\n",
            "--- CALCULADORA CIENTÍFICA ---\n",
            "1 - Operações básicas (+, -, *, /)\n",
            "2 - Operações científicas (**², sqrt, sin, cos, tan, log)\n",
            "0 - Sair\n"
          ]
        }
      ]
    }
  ]
}